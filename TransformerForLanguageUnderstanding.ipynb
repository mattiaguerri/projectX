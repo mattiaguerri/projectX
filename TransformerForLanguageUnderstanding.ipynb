{
 "cells": [
  {
   "cell_type": "markdown",
   "metadata": {},
   "source": [
    "# Machine Translation with Transformer"
   ]
  },
  {
   "cell_type": "markdown",
   "metadata": {},
   "source": [
    "Tutorial from:  \n",
    "https://www.tensorflow.org/tutorials/text/transformer"
   ]
  },
  {
   "cell_type": "code",
   "execution_count": 1,
   "metadata": {},
   "outputs": [],
   "source": [
    "import tensorflow_datasets as tfds\n",
    "import tensorflow as tf\n",
    "\n",
    "import time\n",
    "import numpy as np\n",
    "import matplotlib.pyplot as plt"
   ]
  },
  {
   "cell_type": "code",
   "execution_count": 2,
   "metadata": {},
   "outputs": [],
   "source": [
    "examples, metadata = tfds.load('ted_hrlr_translate/pt_to_en', with_info=True,\n",
    "                               as_supervised=True)"
   ]
  },
  {
   "cell_type": "code",
   "execution_count": 3,
   "metadata": {},
   "outputs": [],
   "source": [
    "train_examples, val_examples = examples['train'], examples['validation']"
   ]
  },
  {
   "cell_type": "code",
   "execution_count": 4,
   "metadata": {},
   "outputs": [],
   "source": [
    "tokenizer_en = tfds.features.text.SubwordTextEncoder.build_from_corpus(\n",
    "    (en.numpy() for pt, en in train_examples), target_vocab_size=2**13)\n",
    "tokenizer_pt = tfds.features.text.SubwordTextEncoder.build_from_corpus(\n",
    "    (pt.numpy() for pt, en in train_examples), target_vocab_size=2**13)"
   ]
  },
  {
   "cell_type": "code",
   "execution_count": 7,
   "metadata": {},
   "outputs": [],
   "source": [
    "BUFFER_SIZE = 20000\n",
    "BATCH_SIZE = 64"
   ]
  },
  {
   "cell_type": "markdown",
   "metadata": {},
   "source": [
    "## Add start and end tokens to the input and target"
   ]
  },
  {
   "cell_type": "code",
   "execution_count": 8,
   "metadata": {},
   "outputs": [],
   "source": [
    "def encode(lang1, lang2):\n",
    "  lang1 = [tokenizer_pt.vocab_size] + tokenizer_pt.encode(\n",
    "      lang1.numpy()) + [tokenizer_pt.vocab_size+1]\n",
    "\n",
    "  lang2 = [tokenizer_en.vocab_size] + tokenizer_en.encode(\n",
    "      lang2.numpy()) + [tokenizer_en.vocab_size+1]\n",
    "  \n",
    "  return lang1, lang2"
   ]
  },
  {
   "cell_type": "code",
   "execution_count": 9,
   "metadata": {},
   "outputs": [],
   "source": [
    "# Wrap the previous function in a tf.py_function.\n",
    "def tf_encode(pt, en):\n",
    "    result_pt, result_en = tf.py_function(encode, [pt, en], [tf.int64, tf.int64])\n",
    "    result_pt.set_shape([None])\n",
    "    result_pt.set_shape([None])\n",
    "    return result_pt, result_en"
   ]
  },
  {
   "cell_type": "code",
   "execution_count": 10,
   "metadata": {},
   "outputs": [],
   "source": [
    "MAX_LENGTH = 40"
   ]
  },
  {
   "cell_type": "code",
   "execution_count": 11,
   "metadata": {},
   "outputs": [],
   "source": [
    "def filter_max_length(x, y, max_length=MAX_LENGTH):\n",
    "  return tf.logical_and(tf.size(x) <= max_length,\n",
    "                        tf.size(y) <= max_length)"
   ]
  },
  {
   "cell_type": "code",
   "execution_count": 12,
   "metadata": {},
   "outputs": [],
   "source": [
    "train_preprocessed = (\n",
    "    train_examples\n",
    "    .map(tf_encode) \n",
    "    .filter(filter_max_length)\n",
    "    # cache the dataset to memory to get a speedup while reading from it.\n",
    "    .cache()\n",
    "    .shuffle(BUFFER_SIZE))\n",
    "\n",
    "val_preprocessed = (\n",
    "    val_examples\n",
    "    .map(tf_encode)\n",
    "    .filter(filter_max_length))        "
   ]
  },
  {
   "cell_type": "markdown",
   "metadata": {},
   "source": [
    "## Pad and batch examples"
   ]
  },
  {
   "cell_type": "code",
   "execution_count": 65,
   "metadata": {},
   "outputs": [],
   "source": [
    "train_dataset = (train_preprocessed\n",
    "                 .padded_batch(BATCH_SIZE, padded_shapes=([None], [None]))\n",
    "                 .prefetch(tf.data.experimental.AUTOTUNE))\n",
    "val_dataset = (val_preprocessed\n",
    "               .padded_batch(BATCH_SIZE, padded_shapes=([None], [None])))"
   ]
  },
  {
   "cell_type": "markdown",
   "metadata": {},
   "source": [
    "## Get a batch from the validation set"
   ]
  },
  {
   "cell_type": "code",
   "execution_count": 66,
   "metadata": {},
   "outputs": [
    {
     "data": {
      "text/plain": [
       "(<tf.Tensor: shape=(64, 38), dtype=int64, numpy=\n",
       " array([[8214,  342, 3032, ...,    0,    0,    0],\n",
       "        [8214,   95,  198, ...,    0,    0,    0],\n",
       "        [8214, 4479, 7990, ...,    0,    0,    0],\n",
       "        ...,\n",
       "        [8214,  584,   12, ...,    0,    0,    0],\n",
       "        [8214,   59, 1548, ...,    0,    0,    0],\n",
       "        [8214,  118,   34, ...,    0,    0,    0]])>,\n",
       " <tf.Tensor: shape=(64, 40), dtype=int64, numpy=\n",
       " array([[8087,   98,   25, ...,    0,    0,    0],\n",
       "        [8087,   12,   20, ...,    0,    0,    0],\n",
       "        [8087,   12, 5453, ...,    0,    0,    0],\n",
       "        ...,\n",
       "        [8087,   18, 2059, ...,    0,    0,    0],\n",
       "        [8087,   16, 1436, ...,    0,    0,    0],\n",
       "        [8087,   15,   57, ...,    0,    0,    0]])>)"
      ]
     },
     "execution_count": 66,
     "metadata": {},
     "output_type": "execute_result"
    }
   ],
   "source": [
    "pt_batch, en_batch = next(iter(val_dataset))\n",
    "pt_batch, en_batch"
   ]
  },
  {
   "cell_type": "markdown",
   "metadata": {},
   "source": [
    "## Positional encoding"
   ]
  },
  {
   "cell_type": "code",
   "execution_count": 67,
   "metadata": {},
   "outputs": [],
   "source": [
    "def get_angles(pos, i, d_model):\n",
    "  angle_rates = 1 / np.power(10000, (2 * (i//2)) / np.float32(d_model))\n",
    "  return pos * angle_rates"
   ]
  },
  {
   "cell_type": "code",
   "execution_count": 68,
   "metadata": {},
   "outputs": [],
   "source": [
    "def positional_encoding(position, d_model):\n",
    "  angle_rads = get_angles(np.arange(position)[:, np.newaxis],\n",
    "                          np.arange(d_model)[np.newaxis, :],\n",
    "                          d_model)\n",
    "  \n",
    "  # apply sin to even indices in the array; 2i\n",
    "  angle_rads[:, 0::2] = np.sin(angle_rads[:, 0::2])\n",
    "  \n",
    "  # apply cos to odd indices in the array; 2i+1\n",
    "  angle_rads[:, 1::2] = np.cos(angle_rads[:, 1::2])\n",
    "    \n",
    "  pos_encoding = angle_rads[np.newaxis, ...]\n",
    "    \n",
    "  return tf.cast(pos_encoding, dtype=tf.float32)"
   ]
  },
  {
   "cell_type": "code",
   "execution_count": 69,
   "metadata": {},
   "outputs": [
    {
     "name": "stdout",
     "output_type": "stream",
     "text": [
      "(1, 50, 512)\n"
     ]
    },
    {
     "data": {
      "image/png": "[encoded data removed]",
      "text/plain": [
       "<Figure size 432x288 with 2 Axes>"
      ]
     },
     "metadata": {
      "needs_background": "light"
     },
     "output_type": "display_data"
    }
   ],
   "source": [
    "pos_encoding = positional_encoding(50, 512)\n",
    "print (pos_encoding.shape)\n",
    "\n",
    "plt.pcolormesh(pos_encoding[0], cmap='RdBu')\n",
    "plt.xlabel('Depth')\n",
    "plt.xlim((0, 512))\n",
    "plt.ylabel('Position')\n",
    "plt.colorbar()\n",
    "plt.show()"
   ]
  },
  {
   "cell_type": "markdown",
   "metadata": {},
   "source": [
    "## Masking"
   ]
  },
  {
   "cell_type": "markdown",
   "metadata": {},
   "source": [
    "Indicate where the pad value \"0\" is present. Output is \"1\" for these locations and \"0\" otherwise."
   ]
  },
  {
   "cell_type": "code",
   "execution_count": 70,
   "metadata": {},
   "outputs": [],
   "source": [
    "def create_padding_mask(seq):\n",
    "    seq = tf.cast(tf.math.equal(seq, 0), tf.float32)\n",
    "    # Add extra dimensions to add the padding to the\n",
    "    # attention logits.\n",
    "    return seq[:, tf.newaxis, tf.newaxis, :]  # (batchSize, 1, 1, seqLen)"
   ]
  },
  {
   "cell_type": "code",
   "execution_count": 71,
   "metadata": {},
   "outputs": [
    {
     "data": {
      "text/plain": [
       "<tf.Tensor: shape=(3, 1, 1, 5), dtype=float32, numpy=\n",
       "array([[[[0., 0., 1., 1., 0.]]],\n",
       "\n",
       "\n",
       "       [[[0., 0., 0., 1., 1.]]],\n",
       "\n",
       "\n",
       "       [[[1., 1., 1., 0., 0.]]]], dtype=float32)>"
      ]
     },
     "execution_count": 71,
     "metadata": {},
     "output_type": "execute_result"
    }
   ],
   "source": [
    "x = tf.constant([[7, 6, 0, 0, 1], [1, 2, 3, 0, 0], [0, 0, 0, 4, 5]])\n",
    "create_padding_mask(x)"
   ]
  },
  {
   "cell_type": "code",
   "execution_count": 72,
   "metadata": {},
   "outputs": [],
   "source": [
    "def create_look_ahead_mask(size):\n",
    "  mask = 1 - tf.linalg.band_part(tf.ones((size, size)), -1, 0)\n",
    "  return mask  # (seq_len, seq_len)"
   ]
  },
  {
   "cell_type": "markdown",
   "metadata": {},
   "source": [
    "## Scaled dot product attention."
   ]
  },
  {
   "cell_type": "code",
   "execution_count": 74,
   "metadata": {},
   "outputs": [],
   "source": [
    "def scaled_dot_product_attention(q, k, v, mask):\n",
    "  \"\"\"Calculate the attention weights.\n",
    "  q, k, v must have matching leading dimensions.\n",
    "  k, v must have matching penultimate dimension, i.e.: seq_len_k = seq_len_v.\n",
    "  The mask has different shapes depending on its type(padding or look ahead) \n",
    "  but it must be broadcastable for addition.\n",
    "  \n",
    "  Args:\n",
    "    q: query shape == (..., seq_len_q, depth)\n",
    "    k: key shape == (..., seq_len_k, depth)\n",
    "    v: value shape == (..., seq_len_v, depth_v)\n",
    "    mask: Float tensor with shape broadcastable \n",
    "          to (..., seq_len_q, seq_len_k). Defaults to None.\n",
    "    \n",
    "  Returns:\n",
    "    output, attention_weights\n",
    "  \"\"\"\n",
    "\n",
    "  matmul_qk = tf.matmul(q, k, transpose_b=True)  # (..., seq_len_q, seq_len_k)\n",
    "  \n",
    "  # scale matmul_qk\n",
    "  dk = tf.cast(tf.shape(k)[-1], tf.float32)\n",
    "  scaled_attention_logits = matmul_qk / tf.math.sqrt(dk)\n",
    "\n",
    "  # add the mask to the scaled tensor.\n",
    "  if mask is not None:\n",
    "    scaled_attention_logits += (mask * -1e9)  \n",
    "\n",
    "  # softmax is normalized on the last axis (seq_len_k) so that the scores\n",
    "  # add up to 1.\n",
    "  attention_weights = tf.nn.softmax(scaled_attention_logits, axis=-1)  # (..., seq_len_q, seq_len_k)\n",
    "\n",
    "  output = tf.matmul(attention_weights, v)  # (..., seq_len_q, depth_v)\n",
    "\n",
    "  return output, attention_weights"
   ]
  },
  {
   "cell_type": "code",
   "execution_count": 75,
   "metadata": {},
   "outputs": [],
   "source": [
    "def print_out(q, k, v):\n",
    "  temp_out, temp_attn = scaled_dot_product_attention(\n",
    "      q, k, v, None)\n",
    "  print ('Attention weights are:')\n",
    "  print (temp_attn)\n",
    "  print ('Output is:')\n",
    "  print (temp_out)"
   ]
  },
  {
   "cell_type": "code",
   "execution_count": 76,
   "metadata": {},
   "outputs": [
    {
     "name": "stdout",
     "output_type": "stream",
     "text": [
      "Attention weights are:\n",
      "tf.Tensor([[0. 1. 0. 0.]], shape=(1, 4), dtype=float32)\n",
      "Output is:\n",
      "tf.Tensor([[10.  0.]], shape=(1, 2), dtype=float32)\n"
     ]
    }
   ],
   "source": [
    "np.set_printoptions(suppress=True)\n",
    "\n",
    "temp_k = tf.constant([[10,0,0],\n",
    "                      [0,10,0],\n",
    "                      [0,0,10],\n",
    "                      [0,0,10]], dtype=tf.float32)  # (4, 3)\n",
    "\n",
    "temp_v = tf.constant([[   1,0],\n",
    "                      [  10,0],\n",
    "                      [ 100,5],\n",
    "                      [1000,6]], dtype=tf.float32)  # (4, 2)\n",
    "\n",
    "# This `query` aligns with the second `key`,\n",
    "# so the second `value` is returned.\n",
    "temp_q = tf.constant([[0, 10, 0]], dtype=tf.float32)  # (1, 3)\n",
    "print_out(temp_q, temp_k, temp_v)"
   ]
  },
  {
   "cell_type": "code",
   "execution_count": 77,
   "metadata": {},
   "outputs": [
    {
     "name": "stdout",
     "output_type": "stream",
     "text": [
      "Attention weights are:\n",
      "tf.Tensor([[0.  0.  0.5 0.5]], shape=(1, 4), dtype=float32)\n",
      "Output is:\n",
      "tf.Tensor([[550.    5.5]], shape=(1, 2), dtype=float32)\n"
     ]
    }
   ],
   "source": [
    "# This query aligns with a repeated key (third and fourth), \n",
    "# so all associated values get averaged.\n",
    "temp_q = tf.constant([[0, 0, 10]], dtype=tf.float32)  # (1, 3)\n",
    "print_out(temp_q, temp_k, temp_v)"
   ]
  },
  {
   "cell_type": "code",
   "execution_count": 78,
   "metadata": {},
   "outputs": [
    {
     "name": "stdout",
     "output_type": "stream",
     "text": [
      "Attention weights are:\n",
      "tf.Tensor([[0.5 0.5 0.  0. ]], shape=(1, 4), dtype=float32)\n",
      "Output is:\n",
      "tf.Tensor([[5.5 0. ]], shape=(1, 2), dtype=float32)\n"
     ]
    }
   ],
   "source": [
    "# This query aligns equally with the first and second key, \n",
    "# so their values get averaged.\n",
    "temp_q = tf.constant([[10, 10, 0]], dtype=tf.float32)  # (1, 3)\n",
    "print_out(temp_q, temp_k, temp_v)"
   ]
  },
  {
   "cell_type": "code",
   "execution_count": 79,
   "metadata": {},
   "outputs": [
    {
     "name": "stdout",
     "output_type": "stream",
     "text": [
      "Attention weights are:\n",
      "tf.Tensor(\n",
      "[[0.  0.  0.5 0.5]\n",
      " [0.  1.  0.  0. ]\n",
      " [0.5 0.5 0.  0. ]], shape=(3, 4), dtype=float32)\n",
      "Output is:\n",
      "tf.Tensor(\n",
      "[[550.    5.5]\n",
      " [ 10.    0. ]\n",
      " [  5.5   0. ]], shape=(3, 2), dtype=float32)\n"
     ]
    }
   ],
   "source": [
    "# Pass all queries together.\n",
    "temp_q = tf.constant([[0, 0, 10], [0, 10, 0], [10, 10, 0]], dtype=tf.float32)  # (3, 3)\n",
    "print_out(temp_q, temp_k, temp_v)"
   ]
  },
  {
   "cell_type": "markdown",
   "metadata": {},
   "source": [
    "## Multi-head attention"
   ]
  },
  {
   "cell_type": "code",
   "execution_count": 80,
   "metadata": {},
   "outputs": [],
   "source": [
    "class MultiHeadAttention(tf.keras.layers.Layer):\n",
    "  def __init__(self, d_model, num_heads):\n",
    "    super(MultiHeadAttention, self).__init__()\n",
    "    self.num_heads = num_heads\n",
    "    self.d_model = d_model\n",
    "    \n",
    "    assert d_model % self.num_heads == 0\n",
    "    \n",
    "    self.depth = d_model // self.num_heads\n",
    "    \n",
    "    self.wq = tf.keras.layers.Dense(d_model)\n",
    "    self.wk = tf.keras.layers.Dense(d_model)\n",
    "    self.wv = tf.keras.layers.Dense(d_model)\n",
    "    \n",
    "    self.dense = tf.keras.layers.Dense(d_model)\n",
    "        \n",
    "  def split_heads(self, x, batch_size):\n",
    "    \"\"\"Split the last dimension into (num_heads, depth).\n",
    "    Transpose the result such that the shape is (batch_size, num_heads, seq_len, depth)\n",
    "    \"\"\"\n",
    "    x = tf.reshape(x, (batch_size, -1, self.num_heads, self.depth))\n",
    "    return tf.transpose(x, perm=[0, 2, 1, 3])\n",
    "    \n",
    "  def call(self, v, k, q, mask):\n",
    "    batch_size = tf.shape(q)[0]\n",
    "    \n",
    "    q = self.wq(q)  # (batch_size, seq_len, d_model)\n",
    "    k = self.wk(k)  # (batch_size, seq_len, d_model)\n",
    "    v = self.wv(v)  # (batch_size, seq_len, d_model)\n",
    "    \n",
    "    q = self.split_heads(q, batch_size)  # (batch_size, num_heads, seq_len_q, depth)\n",
    "    k = self.split_heads(k, batch_size)  # (batch_size, num_heads, seq_len_k, depth)\n",
    "    v = self.split_heads(v, batch_size)  # (batch_size, num_heads, seq_len_v, depth)\n",
    "    \n",
    "    # scaled_attention.shape == (batch_size, num_heads, seq_len_q, depth)\n",
    "    # attention_weights.shape == (batch_size, num_heads, seq_len_q, seq_len_k)\n",
    "    scaled_attention, attention_weights = scaled_dot_product_attention(\n",
    "        q, k, v, mask)\n",
    "    \n",
    "    scaled_attention = tf.transpose(scaled_attention, perm=[0, 2, 1, 3])  # (batch_size, seq_len_q, num_heads, depth)\n",
    "\n",
    "    concat_attention = tf.reshape(scaled_attention, \n",
    "                                  (batch_size, -1, self.d_model))  # (batch_size, seq_len_q, d_model)\n",
    "\n",
    "    output = self.dense(concat_attention)  # (batch_size, seq_len_q, d_model)\n",
    "        \n",
    "    return output, attention_weights"
   ]
  },
  {
   "cell_type": "code",
   "execution_count": 81,
   "metadata": {},
   "outputs": [
    {
     "data": {
      "text/plain": [
       "(TensorShape([1, 60, 512]), TensorShape([1, 8, 60, 60]))"
      ]
     },
     "execution_count": 81,
     "metadata": {},
     "output_type": "execute_result"
    }
   ],
   "source": [
    "# Try the MultiHeadAttention class.\n",
    "temp_mha = MultiHeadAttention(d_model=512, num_heads=8)\n",
    "y = tf.random.uniform((1, 60, 512))  # (batch_size, encoder_sequence, d_model)\n",
    "out, attn = temp_mha(y, k=y, q=y, mask=None)\n",
    "out.shape, attn.shape"
   ]
  },
  {
   "cell_type": "markdown",
   "metadata": {},
   "source": [
    "## Point wise feed forward network"
   ]
  },
  {
   "cell_type": "code",
   "execution_count": 82,
   "metadata": {},
   "outputs": [],
   "source": [
    "def point_wise_feed_forward_network(d_model, dff):\n",
    "    return tf.keras.Sequential([\n",
    "        tf.keras.layers.Dense(dff, activation='relu'),  # (batch_size, seq_len, dff)\n",
    "        tf.keras.layers.Dense(d_model)  # (batch_size, seq_len, d_model)\n",
    "    ])"
   ]
  },
  {
   "cell_type": "code",
   "execution_count": 83,
   "metadata": {},
   "outputs": [
    {
     "data": {
      "text/plain": [
       "TensorShape([64, 50, 512])"
      ]
     },
     "execution_count": 83,
     "metadata": {},
     "output_type": "execute_result"
    }
   ],
   "source": [
    "sample_ffn = point_wise_feed_forward_network(512, 2048)\n",
    "sample_ffn(tf.random.uniform((64, 50, 512))).shape"
   ]
  },
  {
   "cell_type": "markdown",
   "metadata": {},
   "source": [
    "## Encoder layer"
   ]
  },
  {
   "cell_type": "code",
   "execution_count": 84,
   "metadata": {},
   "outputs": [],
   "source": [
    "class EncoderLayer(tf.keras.layers.Layer):\n",
    "  def __init__(self, d_model, num_heads, dff, rate=0.1):\n",
    "    super(EncoderLayer, self).__init__()\n",
    "\n",
    "    self.mha = MultiHeadAttention(d_model, num_heads)\n",
    "    self.ffn = point_wise_feed_forward_network(d_model, dff)\n",
    "\n",
    "    self.layernorm1 = tf.keras.layers.LayerNormalization(epsilon=1e-6)\n",
    "    self.layernorm2 = tf.keras.layers.LayerNormalization(epsilon=1e-6)\n",
    "    \n",
    "    self.dropout1 = tf.keras.layers.Dropout(rate)\n",
    "    self.dropout2 = tf.keras.layers.Dropout(rate)\n",
    "    \n",
    "  def call(self, x, training, mask):\n",
    "\n",
    "    attn_output, _ = self.mha(x, x, x, mask)  # (batch_size, input_seq_len, d_model)\n",
    "    attn_output = self.dropout1(attn_output, training=training)\n",
    "    out1 = self.layernorm1(x + attn_output)  # (batch_size, input_seq_len, d_model)\n",
    "    \n",
    "    ffn_output = self.ffn(out1)  # (batch_size, input_seq_len, d_model)\n",
    "    ffn_output = self.dropout2(ffn_output, training=training)\n",
    "    out2 = self.layernorm2(out1 + ffn_output)  # (batch_size, input_seq_len, d_model)\n",
    "    \n",
    "    return out2"
   ]
  },
  {
   "cell_type": "markdown",
   "metadata": {},
   "source": [
    "## Decoder Layer"
   ]
  },
  {
   "cell_type": "code",
   "execution_count": 85,
   "metadata": {},
   "outputs": [],
   "source": [
    "class DecoderLayer(tf.keras.layers.Layer):\n",
    "  def __init__(self, d_model, num_heads, dff, rate=0.1):\n",
    "    super(DecoderLayer, self).__init__()\n",
    "\n",
    "    self.mha1 = MultiHeadAttention(d_model, num_heads)\n",
    "    self.mha2 = MultiHeadAttention(d_model, num_heads)\n",
    "\n",
    "    self.ffn = point_wise_feed_forward_network(d_model, dff)\n",
    " \n",
    "    self.layernorm1 = tf.keras.layers.LayerNormalization(epsilon=1e-6)\n",
    "    self.layernorm2 = tf.keras.layers.LayerNormalization(epsilon=1e-6)\n",
    "    self.layernorm3 = tf.keras.layers.LayerNormalization(epsilon=1e-6)\n",
    "    \n",
    "    self.dropout1 = tf.keras.layers.Dropout(rate)\n",
    "    self.dropout2 = tf.keras.layers.Dropout(rate)\n",
    "    self.dropout3 = tf.keras.layers.Dropout(rate)\n",
    "    \n",
    "    \n",
    "  def call(self, x, enc_output, training, \n",
    "           look_ahead_mask, padding_mask):\n",
    "    # enc_output.shape == (batch_size, input_seq_len, d_model)\n",
    "\n",
    "    attn1, attn_weights_block1 = self.mha1(x, x, x, look_ahead_mask)  # (batch_size, target_seq_len, d_model)\n",
    "    attn1 = self.dropout1(attn1, training=training)\n",
    "    out1 = self.layernorm1(attn1 + x)\n",
    "    \n",
    "    attn2, attn_weights_block2 = self.mha2(\n",
    "        enc_output, enc_output, out1, padding_mask)  # (batch_size, target_seq_len, d_model)\n",
    "    attn2 = self.dropout2(attn2, training=training)\n",
    "    out2 = self.layernorm2(attn2 + out1)  # (batch_size, target_seq_len, d_model)\n",
    "    \n",
    "    ffn_output = self.ffn(out2)  # (batch_size, target_seq_len, d_model)\n",
    "    ffn_output = self.dropout3(ffn_output, training=training)\n",
    "    out3 = self.layernorm3(ffn_output + out2)  # (batch_size, target_seq_len, d_model)\n",
    "    \n",
    "    return out3, attn_weights_block1, attn_weights_block2"
   ]
  },
  {
   "cell_type": "markdown",
   "metadata": {},
   "source": [
    "## Encoder"
   ]
  },
  {
   "cell_type": "code",
   "execution_count": 86,
   "metadata": {},
   "outputs": [],
   "source": [
    "class Encoder(tf.keras.layers.Layer):\n",
    "  def __init__(self, num_layers, d_model, num_heads, dff, input_vocab_size,\n",
    "               maximum_position_encoding, rate=0.1):\n",
    "    super(Encoder, self).__init__()\n",
    "\n",
    "    self.d_model = d_model\n",
    "    self.num_layers = num_layers\n",
    "    \n",
    "    self.embedding = tf.keras.layers.Embedding(input_vocab_size, d_model)\n",
    "    self.pos_encoding = positional_encoding(maximum_position_encoding, \n",
    "                                            self.d_model)\n",
    "    \n",
    "    \n",
    "    self.enc_layers = [EncoderLayer(d_model, num_heads, dff, rate) \n",
    "                       for _ in range(num_layers)]\n",
    "  \n",
    "    self.dropout = tf.keras.layers.Dropout(rate)\n",
    "        \n",
    "  def call(self, x, training, mask):\n",
    "\n",
    "    seq_len = tf.shape(x)[1]\n",
    "    \n",
    "    # adding embedding and position encoding.\n",
    "    x = self.embedding(x)  # (batch_size, input_seq_len, d_model)\n",
    "    x *= tf.math.sqrt(tf.cast(self.d_model, tf.float32))\n",
    "    x += self.pos_encoding[:, :seq_len, :]\n",
    "\n",
    "    x = self.dropout(x, training=training)\n",
    "    \n",
    "    for i in range(self.num_layers):\n",
    "      x = self.enc_layers[i](x, training, mask)\n",
    "    \n",
    "    return x  # (batch_size, input_seq_len, d_model)"
   ]
  },
  {
   "cell_type": "markdown",
   "metadata": {},
   "source": [
    "## Decoder"
   ]
  },
  {
   "cell_type": "code",
   "execution_count": 87,
   "metadata": {},
   "outputs": [],
   "source": [
    "class Decoder(tf.keras.layers.Layer):\n",
    "  def __init__(self, num_layers, d_model, num_heads, dff, target_vocab_size,\n",
    "               maximum_position_encoding, rate=0.1):\n",
    "    super(Decoder, self).__init__()\n",
    "\n",
    "    self.d_model = d_model\n",
    "    self.num_layers = num_layers\n",
    "    \n",
    "    self.embedding = tf.keras.layers.Embedding(target_vocab_size, d_model)\n",
    "    self.pos_encoding = positional_encoding(maximum_position_encoding, d_model)\n",
    "    \n",
    "    self.dec_layers = [DecoderLayer(d_model, num_heads, dff, rate) \n",
    "                       for _ in range(num_layers)]\n",
    "    self.dropout = tf.keras.layers.Dropout(rate)\n",
    "    \n",
    "  def call(self, x, enc_output, training, \n",
    "           look_ahead_mask, padding_mask):\n",
    "\n",
    "    seq_len = tf.shape(x)[1]\n",
    "    attention_weights = {}\n",
    "    \n",
    "    x = self.embedding(x)  # (batch_size, target_seq_len, d_model)\n",
    "    x *= tf.math.sqrt(tf.cast(self.d_model, tf.float32))\n",
    "    x += self.pos_encoding[:, :seq_len, :]\n",
    "    \n",
    "    x = self.dropout(x, training=training)\n",
    "\n",
    "    for i in range(self.num_layers):\n",
    "      x, block1, block2 = self.dec_layers[i](x, enc_output, training,\n",
    "                                             look_ahead_mask, padding_mask)\n",
    "      \n",
    "      attention_weights['decoder_layer{}_block1'.format(i+1)] = block1\n",
    "      attention_weights['decoder_layer{}_block2'.format(i+1)] = block2\n",
    "    \n",
    "    # x.shape == (batch_size, target_seq_len, d_model)\n",
    "    return x, attention_weights"
   ]
  },
  {
   "cell_type": "markdown",
   "metadata": {},
   "source": [
    "## Create the Transformer"
   ]
  },
  {
   "cell_type": "code",
   "execution_count": 88,
   "metadata": {},
   "outputs": [],
   "source": [
    "class Transformer(tf.keras.Model):\n",
    "  def __init__(self, num_layers, d_model, num_heads, dff, input_vocab_size, \n",
    "               target_vocab_size, pe_input, pe_target, rate=0.1):\n",
    "    super(Transformer, self).__init__()\n",
    "\n",
    "    self.encoder = Encoder(num_layers, d_model, num_heads, dff, \n",
    "                           input_vocab_size, pe_input, rate)\n",
    "\n",
    "    self.decoder = Decoder(num_layers, d_model, num_heads, dff, \n",
    "                           target_vocab_size, pe_target, rate)\n",
    "\n",
    "    self.final_layer = tf.keras.layers.Dense(target_vocab_size)\n",
    "    \n",
    "  def call(self, inp, tar, training, enc_padding_mask, \n",
    "           look_ahead_mask, dec_padding_mask):\n",
    "\n",
    "    enc_output = self.encoder(inp, training, enc_padding_mask)  # (batch_size, inp_seq_len, d_model)\n",
    "    \n",
    "    # dec_output.shape == (batch_size, tar_seq_len, d_model)\n",
    "    dec_output, attention_weights = self.decoder(\n",
    "        tar, enc_output, training, look_ahead_mask, dec_padding_mask)\n",
    "    \n",
    "    final_output = self.final_layer(dec_output)  # (batch_size, tar_seq_len, target_vocab_size)\n",
    "    \n",
    "    return final_output, attention_weights"
   ]
  },
  {
   "cell_type": "markdown",
   "metadata": {},
   "source": [
    "## Set Hyperparameters"
   ]
  },
  {
   "cell_type": "code",
   "execution_count": 89,
   "metadata": {},
   "outputs": [],
   "source": [
    "num_layers = 4\n",
    "d_model = 128\n",
    "dff = 512\n",
    "num_heads = 8\n",
    "\n",
    "input_vocab_size = tokenizer_pt.vocab_size + 2\n",
    "target_vocab_size = tokenizer_en.vocab_size + 2\n",
    "dropout_rate = 0.1"
   ]
  },
  {
   "cell_type": "markdown",
   "metadata": {},
   "source": [
    "## Optimizer\n",
    "Adam optimizer with custom learning rate scheduler."
   ]
  },
  {
   "cell_type": "code",
   "execution_count": 90,
   "metadata": {},
   "outputs": [],
   "source": [
    "class CustomSchedule(tf.keras.optimizers.schedules.LearningRateSchedule):\n",
    "  def __init__(self, d_model, warmup_steps=4000):\n",
    "    super(CustomSchedule, self).__init__()\n",
    "    \n",
    "    self.d_model = d_model\n",
    "    self.d_model = tf.cast(self.d_model, tf.float32)\n",
    "\n",
    "    self.warmup_steps = warmup_steps\n",
    "    \n",
    "  def __call__(self, step):\n",
    "    arg1 = tf.math.rsqrt(step)\n",
    "    arg2 = step * (self.warmup_steps ** -1.5)\n",
    "    \n",
    "    return tf.math.rsqrt(self.d_model) * tf.math.minimum(arg1, arg2)"
   ]
  },
  {
   "cell_type": "code",
   "execution_count": 91,
   "metadata": {},
   "outputs": [],
   "source": [
    "learning_rate = CustomSchedule(d_model)\n",
    "\n",
    "optimizer = tf.keras.optimizers.Adam(learning_rate, beta_1=0.9, beta_2=0.98, \n",
    "                                     epsilon=1e-9)"
   ]
  },
  {
   "cell_type": "markdown",
   "metadata": {},
   "source": [
    "## Loss and metrics"
   ]
  },
  {
   "cell_type": "code",
   "execution_count": 92,
   "metadata": {},
   "outputs": [],
   "source": [
    "loss_object = tf.keras.losses.SparseCategoricalCrossentropy(\n",
    "    from_logits=True, reduction='none')"
   ]
  },
  {
   "cell_type": "code",
   "execution_count": 93,
   "metadata": {},
   "outputs": [],
   "source": [
    "def loss_function(real, pred):\n",
    "  mask = tf.math.logical_not(tf.math.equal(real, 0))\n",
    "  loss_ = loss_object(real, pred)\n",
    "\n",
    "  mask = tf.cast(mask, dtype=loss_.dtype)\n",
    "  loss_ *= mask\n",
    "  \n",
    "  return tf.reduce_sum(loss_)/tf.reduce_sum(mask)"
   ]
  },
  {
   "cell_type": "code",
   "execution_count": 54,
   "metadata": {},
   "outputs": [],
   "source": [
    "train_loss = tf.keras.metrics.Mean(name='train_loss')\n",
    "train_accuracy = tf.keras.metrics.SparseCategoricalAccuracy(\n",
    "    name='train_accuracy')"
   ]
  },
  {
   "cell_type": "markdown",
   "metadata": {},
   "source": [
    "## Training and checkpointing"
   ]
  },
  {
   "cell_type": "code",
   "execution_count": 55,
   "metadata": {},
   "outputs": [],
   "source": [
    "transformer = Transformer(num_layers, d_model, num_heads, dff,\n",
    "                          input_vocab_size, target_vocab_size, \n",
    "                          pe_input=input_vocab_size, \n",
    "                          pe_target=target_vocab_size,\n",
    "                          rate=dropout_rate)"
   ]
  },
  {
   "cell_type": "code",
   "execution_count": 56,
   "metadata": {},
   "outputs": [],
   "source": [
    "def create_masks(inp, tar):\n",
    "  # Encoder padding mask\n",
    "  enc_padding_mask = create_padding_mask(inp)\n",
    "  \n",
    "  # Used in the 2nd attention block in the decoder.\n",
    "  # This padding mask is used to mask the encoder outputs.\n",
    "  dec_padding_mask = create_padding_mask(inp)\n",
    "  \n",
    "  # Used in the 1st attention block in the decoder.\n",
    "  # It is used to pad and mask future tokens in the input received by \n",
    "  # the decoder.\n",
    "  look_ahead_mask = create_look_ahead_mask(tf.shape(tar)[1])\n",
    "  dec_target_padding_mask = create_padding_mask(tar)\n",
    "  combined_mask = tf.maximum(dec_target_padding_mask, look_ahead_mask)\n",
    "  \n",
    "  return enc_padding_mask, combined_mask, dec_padding_mask"
   ]
  },
  {
   "cell_type": "code",
   "execution_count": 57,
   "metadata": {},
   "outputs": [],
   "source": [
    "checkpoint_path = \"./checkpoints/train\"\n",
    "\n",
    "ckpt = tf.train.Checkpoint(transformer=transformer,\n",
    "                           optimizer=optimizer)\n",
    "\n",
    "ckpt_manager = tf.train.CheckpointManager(ckpt, checkpoint_path, max_to_keep=5)\n",
    "\n",
    "# if a checkpoint exists, restore the latest checkpoint.\n",
    "if ckpt_manager.latest_checkpoint:\n",
    "  ckpt.restore(ckpt_manager.latest_checkpoint)\n",
    "  print ('Latest checkpoint restored!!')"
   ]
  },
  {
   "cell_type": "code",
   "execution_count": 58,
   "metadata": {},
   "outputs": [],
   "source": [
    "EPOCHS = 20"
   ]
  },
  {
   "cell_type": "code",
   "execution_count": 59,
   "metadata": {},
   "outputs": [],
   "source": [
    "# The @tf.function trace-compiles train_step into a TF graph for faster\n",
    "# execution. The function specializes to the precise shape of the argument\n",
    "# tensors. To avoid re-tracing due to the variable sequence lengths or variable\n",
    "# batch sizes (the last batch is smaller), use input_signature to specify\n",
    "# more generic shapes.\n",
    "\n",
    "train_step_signature = [\n",
    "    tf.TensorSpec(shape=(None, None), dtype=tf.int64),\n",
    "    tf.TensorSpec(shape=(None, None), dtype=tf.int64),\n",
    "]\n",
    "\n",
    "@tf.function(input_signature=train_step_signature)\n",
    "def train_step(inp, tar):\n",
    "  tar_inp = tar[:, :-1]\n",
    "  tar_real = tar[:, 1:]\n",
    "  \n",
    "  enc_padding_mask, combined_mask, dec_padding_mask = create_masks(inp, tar_inp)\n",
    "  \n",
    "  with tf.GradientTape() as tape:\n",
    "    predictions, _ = transformer(inp, tar_inp, \n",
    "                                 True, \n",
    "                                 enc_padding_mask, \n",
    "                                 combined_mask, \n",
    "                                 dec_padding_mask)\n",
    "    loss = loss_function(tar_real, predictions)\n",
    "\n",
    "  gradients = tape.gradient(loss, transformer.trainable_variables)    \n",
    "  optimizer.apply_gradients(zip(gradients, transformer.trainable_variables))\n",
    "  \n",
    "  train_loss(loss)\n",
    "  train_accuracy(tar_real, predictions)"
   ]
  },
  {
   "cell_type": "code",
   "execution_count": 60,
   "metadata": {},
   "outputs": [
    {
     "name": "stdout",
     "output_type": "stream",
     "text": [
      "Epoch 1 Batch 0 Loss 8.9843 Accuracy 0.0000\n",
      "Epoch 1 Batch 50 Loss 8.9294 Accuracy 0.0022\n",
      "Epoch 1 Batch 100 Loss 8.8410 Accuracy 0.0137\n",
      "Epoch 1 Batch 150 Loss 8.7403 Accuracy 0.0181\n",
      "Epoch 1 Batch 200 Loss 8.6133 Accuracy 0.0202\n",
      "Epoch 1 Batch 250 Loss 8.4589 Accuracy 0.0216\n",
      "Epoch 1 Batch 300 Loss 8.2825 Accuracy 0.0239\n",
      "Epoch 1 Batch 350 Loss 8.0988 Accuracy 0.0274\n",
      "Epoch 1 Batch 400 Loss 7.9195 Accuracy 0.0306\n",
      "Epoch 1 Batch 450 Loss 7.7541 Accuracy 0.0338\n",
      "Epoch 1 Batch 500 Loss 7.6100 Accuracy 0.0367\n",
      "Epoch 1 Batch 550 Loss 7.4777 Accuracy 0.0401\n",
      "Epoch 1 Batch 600 Loss 7.3521 Accuracy 0.0439\n",
      "Epoch 1 Batch 650 Loss 7.2339 Accuracy 0.0473\n",
      "Epoch 1 Batch 700 Loss 7.1231 Accuracy 0.0505\n",
      "Epoch 1 Loss 7.1185 Accuracy 0.0506\n",
      "Time taken for 1 epoch: 543.1026000976562 secs\n",
      "\n",
      "Epoch 2 Batch 0 Loss 5.3901 Accuracy 0.1076\n",
      "Epoch 2 Batch 50 Loss 5.4989 Accuracy 0.1012\n",
      "Epoch 2 Batch 100 Loss 5.4334 Accuracy 0.1039\n",
      "Epoch 2 Batch 150 Loss 5.3850 Accuracy 0.1061\n",
      "Epoch 2 Batch 200 Loss 5.3381 Accuracy 0.1086\n",
      "Epoch 2 Batch 250 Loss 5.2987 Accuracy 0.1106\n",
      "Epoch 2 Batch 300 Loss 5.2590 Accuracy 0.1125\n",
      "Epoch 2 Batch 350 Loss 5.2227 Accuracy 0.1141\n",
      "Epoch 2 Batch 400 Loss 5.1891 Accuracy 0.1158\n",
      "Epoch 2 Batch 450 Loss 5.1546 Accuracy 0.1173\n",
      "Epoch 2 Batch 500 Loss 5.1279 Accuracy 0.1186\n",
      "Epoch 2 Batch 550 Loss 5.0984 Accuracy 0.1201\n",
      "Epoch 2 Batch 600 Loss 5.0706 Accuracy 0.1216\n",
      "Epoch 2 Batch 650 Loss 5.0452 Accuracy 0.1230\n",
      "Epoch 2 Batch 700 Loss 5.0231 Accuracy 0.1241\n",
      "Epoch 2 Loss 5.0222 Accuracy 0.1241\n",
      "Time taken for 1 epoch: 505.8187210559845 secs\n",
      "\n",
      "Epoch 3 Batch 0 Loss 4.6997 Accuracy 0.1385\n",
      "Epoch 3 Batch 50 Loss 4.6483 Accuracy 0.1412\n",
      "Epoch 3 Batch 100 Loss 4.6291 Accuracy 0.1414\n",
      "Epoch 3 Batch 150 Loss 4.6063 Accuracy 0.1432\n",
      "Epoch 3 Batch 200 Loss 4.5947 Accuracy 0.1436\n",
      "Epoch 3 Batch 250 Loss 4.5833 Accuracy 0.1439\n",
      "Epoch 3 Batch 300 Loss 4.5707 Accuracy 0.1443\n",
      "Epoch 3 Batch 350 Loss 4.5579 Accuracy 0.1453\n",
      "Epoch 3 Batch 400 Loss 4.5477 Accuracy 0.1461\n",
      "Epoch 3 Batch 450 Loss 4.5393 Accuracy 0.1465\n",
      "Epoch 3 Batch 500 Loss 4.5266 Accuracy 0.1471\n",
      "Epoch 3 Batch 550 Loss 4.5150 Accuracy 0.1475\n",
      "Epoch 3 Batch 600 Loss 4.5011 Accuracy 0.1481\n",
      "Epoch 3 Batch 650 Loss 4.4889 Accuracy 0.1487\n",
      "Epoch 3 Batch 700 Loss 4.4774 Accuracy 0.1493\n",
      "Epoch 3 Loss 4.4769 Accuracy 0.1493\n",
      "Time taken for 1 epoch: 498.04254698753357 secs\n",
      "\n",
      "Epoch 4 Batch 0 Loss 4.1671 Accuracy 0.1520\n",
      "Epoch 4 Batch 50 Loss 4.2042 Accuracy 0.1609\n",
      "Epoch 4 Batch 100 Loss 4.1871 Accuracy 0.1611\n",
      "Epoch 4 Batch 150 Loss 4.1846 Accuracy 0.1619\n",
      "Epoch 4 Batch 200 Loss 4.1713 Accuracy 0.1630\n",
      "Epoch 4 Batch 250 Loss 4.1586 Accuracy 0.1639\n",
      "Epoch 4 Batch 300 Loss 4.1476 Accuracy 0.1652\n",
      "Epoch 4 Batch 350 Loss 4.1360 Accuracy 0.1661\n",
      "Epoch 4 Batch 400 Loss 4.1210 Accuracy 0.1671\n",
      "Epoch 4 Batch 450 Loss 4.1065 Accuracy 0.1683\n",
      "Epoch 4 Batch 500 Loss 4.0934 Accuracy 0.1694\n",
      "Epoch 4 Batch 550 Loss 4.0747 Accuracy 0.1702\n",
      "Epoch 4 Batch 600 Loss 4.0570 Accuracy 0.1711\n",
      "Epoch 4 Batch 650 Loss 4.0414 Accuracy 0.1722\n",
      "Epoch 4 Batch 700 Loss 4.0269 Accuracy 0.1731\n",
      "Epoch 4 Loss 4.0259 Accuracy 0.1731\n",
      "Time taken for 1 epoch: 494.80725860595703 secs\n",
      "\n",
      "Epoch 5 Batch 0 Loss 3.8505 Accuracy 0.1943\n",
      "Epoch 5 Batch 50 Loss 3.6835 Accuracy 0.1906\n",
      "Epoch 5 Batch 100 Loss 3.6855 Accuracy 0.1909\n",
      "Epoch 5 Batch 150 Loss 3.6705 Accuracy 0.1919\n",
      "Epoch 5 Batch 200 Loss 3.6577 Accuracy 0.1925\n",
      "Epoch 5 Batch 250 Loss 3.6439 Accuracy 0.1939\n",
      "Epoch 5 Batch 300 Loss 3.6281 Accuracy 0.1950\n",
      "Epoch 5 Batch 350 Loss 3.6201 Accuracy 0.1959\n",
      "Epoch 5 Batch 400 Loss 3.6045 Accuracy 0.1969\n",
      "Epoch 5 Batch 450 Loss 3.5949 Accuracy 0.1978\n",
      "Epoch 5 Batch 500 Loss 3.5864 Accuracy 0.1987\n",
      "Epoch 5 Batch 550 Loss 3.5755 Accuracy 0.1994\n",
      "Epoch 5 Batch 600 Loss 3.5614 Accuracy 0.2004\n",
      "Epoch 5 Batch 650 Loss 3.5530 Accuracy 0.2010\n",
      "Epoch 5 Batch 700 Loss 3.5409 Accuracy 0.2019\n",
      "Saving checkpoint for epoch 5 at ./checkpoints/train/ckpt-1\n",
      "Epoch 5 Loss 3.5409 Accuracy 0.2019\n",
      "Time taken for 1 epoch: 494.4721179008484 secs\n",
      "\n",
      "Epoch 6 Batch 0 Loss 3.3630 Accuracy 0.2430\n",
      "Epoch 6 Batch 50 Loss 3.2077 Accuracy 0.2158\n",
      "Epoch 6 Batch 100 Loss 3.2102 Accuracy 0.2178\n",
      "Epoch 6 Batch 150 Loss 3.2055 Accuracy 0.2177\n",
      "Epoch 6 Batch 200 Loss 3.2065 Accuracy 0.2179\n",
      "Epoch 6 Batch 250 Loss 3.2048 Accuracy 0.2183\n",
      "Epoch 6 Batch 300 Loss 3.1955 Accuracy 0.2190\n",
      "Epoch 6 Batch 350 Loss 3.1925 Accuracy 0.2189\n",
      "Epoch 6 Batch 400 Loss 3.1851 Accuracy 0.2194\n",
      "Epoch 6 Batch 450 Loss 3.1772 Accuracy 0.2200\n",
      "Epoch 6 Batch 500 Loss 3.1698 Accuracy 0.2209\n",
      "Epoch 6 Batch 550 Loss 3.1623 Accuracy 0.2215\n",
      "Epoch 6 Batch 600 Loss 3.1532 Accuracy 0.2219\n",
      "Epoch 6 Batch 650 Loss 3.1475 Accuracy 0.2223\n",
      "Epoch 6 Batch 700 Loss 3.1405 Accuracy 0.2227\n",
      "Epoch 6 Loss 3.1406 Accuracy 0.2227\n",
      "Time taken for 1 epoch: 495.22164726257324 secs\n",
      "\n",
      "Epoch 7 Batch 0 Loss 2.7744 Accuracy 0.2667\n",
      "Epoch 7 Batch 50 Loss 2.8021 Accuracy 0.2377\n",
      "Epoch 7 Batch 100 Loss 2.8120 Accuracy 0.2398\n",
      "Epoch 7 Batch 150 Loss 2.8165 Accuracy 0.2377\n",
      "Epoch 7 Batch 200 Loss 2.8055 Accuracy 0.2400\n",
      "Epoch 7 Batch 250 Loss 2.7963 Accuracy 0.2401\n",
      "Epoch 7 Batch 300 Loss 2.7908 Accuracy 0.2410\n",
      "Epoch 7 Batch 350 Loss 2.7845 Accuracy 0.2419\n",
      "Epoch 7 Batch 400 Loss 2.7794 Accuracy 0.2418\n",
      "Epoch 7 Batch 450 Loss 2.7706 Accuracy 0.2424\n",
      "Epoch 7 Batch 500 Loss 2.7593 Accuracy 0.2428\n",
      "Epoch 7 Batch 550 Loss 2.7517 Accuracy 0.2439\n",
      "Epoch 7 Batch 600 Loss 2.7478 Accuracy 0.2442\n",
      "Epoch 7 Batch 650 Loss 2.7430 Accuracy 0.2446\n",
      "Epoch 7 Batch 700 Loss 2.7367 Accuracy 0.2449\n",
      "Epoch 7 Loss 2.7365 Accuracy 0.2450\n",
      "Time taken for 1 epoch: 509.29858660697937 secs\n",
      "\n",
      "Epoch 8 Batch 0 Loss 2.5913 Accuracy 0.2348\n",
      "Epoch 8 Batch 50 Loss 2.4381 Accuracy 0.2609\n",
      "Epoch 8 Batch 100 Loss 2.4343 Accuracy 0.2615\n",
      "Epoch 8 Batch 150 Loss 2.4404 Accuracy 0.2602\n",
      "Epoch 8 Batch 200 Loss 2.4283 Accuracy 0.2612\n",
      "Epoch 8 Batch 250 Loss 2.4314 Accuracy 0.2604\n",
      "Epoch 8 Batch 300 Loss 2.4249 Accuracy 0.2613\n",
      "Epoch 8 Batch 350 Loss 2.4204 Accuracy 0.2619\n",
      "Epoch 8 Batch 400 Loss 2.4152 Accuracy 0.2623\n",
      "Epoch 8 Batch 450 Loss 2.4119 Accuracy 0.2625\n",
      "Epoch 8 Batch 500 Loss 2.4108 Accuracy 0.2628\n",
      "Epoch 8 Batch 550 Loss 2.4096 Accuracy 0.2630\n",
      "Epoch 8 Batch 600 Loss 2.4072 Accuracy 0.2634\n",
      "Epoch 8 Batch 650 Loss 2.4074 Accuracy 0.2636\n",
      "Epoch 8 Batch 700 Loss 2.4046 Accuracy 0.2640\n",
      "Epoch 8 Loss 2.4045 Accuracy 0.2640\n",
      "Time taken for 1 epoch: 501.8783040046692 secs\n",
      "\n",
      "Epoch 9 Batch 0 Loss 2.0189 Accuracy 0.2861\n",
      "Epoch 9 Batch 50 Loss 2.1180 Accuracy 0.2801\n",
      "Epoch 9 Batch 100 Loss 2.1357 Accuracy 0.2791\n",
      "Epoch 9 Batch 150 Loss 2.1393 Accuracy 0.2779\n",
      "Epoch 9 Batch 200 Loss 2.1424 Accuracy 0.2777\n",
      "Epoch 9 Batch 250 Loss 2.1476 Accuracy 0.2774\n",
      "Epoch 9 Batch 300 Loss 2.1466 Accuracy 0.2778\n",
      "Epoch 9 Batch 350 Loss 2.1495 Accuracy 0.2786\n",
      "Epoch 9 Batch 400 Loss 2.1514 Accuracy 0.2788\n",
      "Epoch 9 Batch 450 Loss 2.1543 Accuracy 0.2784\n",
      "Epoch 9 Batch 500 Loss 2.1559 Accuracy 0.2781\n",
      "Epoch 9 Batch 550 Loss 2.1585 Accuracy 0.2781\n",
      "Epoch 9 Batch 600 Loss 2.1567 Accuracy 0.2785\n",
      "Epoch 9 Batch 650 Loss 2.1590 Accuracy 0.2783\n",
      "Epoch 9 Batch 700 Loss 2.1609 Accuracy 0.2783\n",
      "Epoch 9 Loss 2.1611 Accuracy 0.2783\n",
      "Time taken for 1 epoch: 501.48979330062866 secs\n",
      "\n",
      "Epoch 10 Batch 0 Loss 1.8317 Accuracy 0.3409\n",
      "Epoch 10 Batch 50 Loss 1.9318 Accuracy 0.2933\n",
      "Epoch 10 Batch 100 Loss 1.9374 Accuracy 0.2909\n",
      "Epoch 10 Batch 150 Loss 1.9411 Accuracy 0.2897\n",
      "Epoch 10 Batch 200 Loss 1.9444 Accuracy 0.2895\n",
      "Epoch 10 Batch 250 Loss 1.9547 Accuracy 0.2891\n",
      "Epoch 10 Batch 300 Loss 1.9554 Accuracy 0.2900\n",
      "Epoch 10 Batch 350 Loss 1.9594 Accuracy 0.2898\n",
      "Epoch 10 Batch 400 Loss 1.9588 Accuracy 0.2897\n",
      "Epoch 10 Batch 450 Loss 1.9623 Accuracy 0.2894\n",
      "Epoch 10 Batch 500 Loss 1.9683 Accuracy 0.2890\n",
      "Epoch 10 Batch 550 Loss 1.9719 Accuracy 0.2890\n",
      "Epoch 10 Batch 600 Loss 1.9751 Accuracy 0.2887\n",
      "Epoch 10 Batch 650 Loss 1.9767 Accuracy 0.2890\n",
      "Epoch 10 Batch 700 Loss 1.9791 Accuracy 0.2892\n",
      "Saving checkpoint for epoch 10 at ./checkpoints/train/ckpt-2\n",
      "Epoch 10 Loss 1.9796 Accuracy 0.2893\n",
      "Time taken for 1 epoch: 497.61558723449707 secs\n",
      "\n",
      "Epoch 11 Batch 0 Loss 1.7499 Accuracy 0.2929\n",
      "Epoch 11 Batch 50 Loss 1.7570 Accuracy 0.3009\n",
      "Epoch 11 Batch 100 Loss 1.7619 Accuracy 0.3006\n",
      "Epoch 11 Batch 150 Loss 1.7827 Accuracy 0.3015\n",
      "Epoch 11 Batch 200 Loss 1.7876 Accuracy 0.3007\n",
      "Epoch 11 Batch 250 Loss 1.7919 Accuracy 0.2991\n",
      "Epoch 11 Batch 300 Loss 1.8046 Accuracy 0.2981\n",
      "Epoch 11 Batch 350 Loss 1.8106 Accuracy 0.2979\n",
      "Epoch 11 Batch 400 Loss 1.8150 Accuracy 0.2981\n",
      "Epoch 11 Batch 450 Loss 1.8198 Accuracy 0.2983\n",
      "Epoch 11 Batch 500 Loss 1.8216 Accuracy 0.2984\n",
      "Epoch 11 Batch 550 Loss 1.8244 Accuracy 0.2981\n",
      "Epoch 11 Batch 600 Loss 1.8300 Accuracy 0.2984\n",
      "Epoch 11 Batch 650 Loss 1.8320 Accuracy 0.2983\n",
      "Epoch 11 Batch 700 Loss 1.8345 Accuracy 0.2980\n",
      "Epoch 11 Loss 1.8341 Accuracy 0.2980\n",
      "Time taken for 1 epoch: 497.3401107788086 secs\n",
      "\n",
      "Epoch 12 Batch 0 Loss 1.5586 Accuracy 0.2978\n",
      "Epoch 12 Batch 50 Loss 1.6281 Accuracy 0.3097\n",
      "Epoch 12 Batch 100 Loss 1.6516 Accuracy 0.3112\n",
      "Epoch 12 Batch 150 Loss 1.6679 Accuracy 0.3110\n",
      "Epoch 12 Batch 200 Loss 1.6696 Accuracy 0.3108\n",
      "Epoch 12 Batch 250 Loss 1.6768 Accuracy 0.3094\n",
      "Epoch 12 Batch 300 Loss 1.6818 Accuracy 0.3095\n",
      "Epoch 12 Batch 350 Loss 1.6869 Accuracy 0.3095\n",
      "Epoch 12 Batch 400 Loss 1.6922 Accuracy 0.3087\n",
      "Epoch 12 Batch 450 Loss 1.6951 Accuracy 0.3087\n",
      "Epoch 12 Batch 500 Loss 1.6992 Accuracy 0.3083\n",
      "Epoch 12 Batch 550 Loss 1.7042 Accuracy 0.3077\n",
      "Epoch 12 Batch 600 Loss 1.7084 Accuracy 0.3072\n",
      "Epoch 12 Batch 650 Loss 1.7101 Accuracy 0.3068\n",
      "Epoch 12 Batch 700 Loss 1.7158 Accuracy 0.3067\n",
      "Epoch 12 Loss 1.7162 Accuracy 0.3066\n",
      "Time taken for 1 epoch: 496.02947211265564 secs\n",
      "\n",
      "Epoch 13 Batch 0 Loss 1.4644 Accuracy 0.3294\n",
      "Epoch 13 Batch 50 Loss 1.5496 Accuracy 0.3186\n",
      "Epoch 13 Batch 100 Loss 1.5578 Accuracy 0.3154\n",
      "Epoch 13 Batch 150 Loss 1.5643 Accuracy 0.3145\n",
      "Epoch 13 Batch 200 Loss 1.5657 Accuracy 0.3149\n",
      "Epoch 13 Batch 250 Loss 1.5736 Accuracy 0.3145\n",
      "Epoch 13 Batch 300 Loss 1.5769 Accuracy 0.3138\n",
      "Epoch 13 Batch 350 Loss 1.5813 Accuracy 0.3133\n",
      "Epoch 13 Batch 400 Loss 1.5884 Accuracy 0.3136\n",
      "Epoch 13 Batch 450 Loss 1.5933 Accuracy 0.3137\n",
      "Epoch 13 Batch 500 Loss 1.5971 Accuracy 0.3142\n",
      "Epoch 13 Batch 550 Loss 1.5998 Accuracy 0.3138\n",
      "Epoch 13 Batch 600 Loss 1.6066 Accuracy 0.3134\n",
      "Epoch 13 Batch 650 Loss 1.6132 Accuracy 0.3127\n",
      "Epoch 13 Batch 700 Loss 1.6175 Accuracy 0.3125\n",
      "Epoch 13 Loss 1.6179 Accuracy 0.3125\n",
      "Time taken for 1 epoch: 497.0650715827942 secs\n",
      "\n",
      "Epoch 14 Batch 0 Loss 1.4140 Accuracy 0.3701\n",
      "Epoch 14 Batch 50 Loss 1.4564 Accuracy 0.3231\n",
      "Epoch 14 Batch 100 Loss 1.4667 Accuracy 0.3204\n",
      "Epoch 14 Batch 150 Loss 1.4781 Accuracy 0.3226\n",
      "Epoch 14 Batch 200 Loss 1.4843 Accuracy 0.3220\n",
      "Epoch 14 Batch 250 Loss 1.4900 Accuracy 0.3215\n",
      "Epoch 14 Batch 300 Loss 1.4964 Accuracy 0.3207\n",
      "Epoch 14 Batch 350 Loss 1.5005 Accuracy 0.3197\n",
      "Epoch 14 Batch 400 Loss 1.5020 Accuracy 0.3195\n",
      "Epoch 14 Batch 450 Loss 1.5036 Accuracy 0.3193\n",
      "Epoch 14 Batch 500 Loss 1.5082 Accuracy 0.3190\n",
      "Epoch 14 Batch 550 Loss 1.5157 Accuracy 0.3187\n",
      "Epoch 14 Batch 600 Loss 1.5197 Accuracy 0.3186\n",
      "Epoch 14 Batch 650 Loss 1.5242 Accuracy 0.3189\n",
      "Epoch 14 Batch 700 Loss 1.5295 Accuracy 0.3183\n",
      "Epoch 14 Loss 1.5296 Accuracy 0.3183\n",
      "Time taken for 1 epoch: 496.17120575904846 secs\n",
      "\n",
      "Epoch 15 Batch 0 Loss 1.3376 Accuracy 0.3205\n",
      "Epoch 15 Batch 50 Loss 1.3600 Accuracy 0.3273\n",
      "Epoch 15 Batch 100 Loss 1.3772 Accuracy 0.3290\n",
      "Epoch 15 Batch 150 Loss 1.3911 Accuracy 0.3297\n",
      "Epoch 15 Batch 200 Loss 1.3972 Accuracy 0.3283\n",
      "Epoch 15 Batch 250 Loss 1.4046 Accuracy 0.3270\n",
      "Epoch 15 Batch 300 Loss 1.4130 Accuracy 0.3269\n",
      "Epoch 15 Batch 350 Loss 1.4176 Accuracy 0.3271\n",
      "Epoch 15 Batch 400 Loss 1.4216 Accuracy 0.3272\n",
      "Epoch 15 Batch 450 Loss 1.4269 Accuracy 0.3263\n",
      "Epoch 15 Batch 500 Loss 1.4308 Accuracy 0.3258\n",
      "Epoch 15 Batch 550 Loss 1.4364 Accuracy 0.3254\n",
      "Epoch 15 Batch 600 Loss 1.4433 Accuracy 0.3248\n",
      "Epoch 15 Batch 650 Loss 1.4507 Accuracy 0.3242\n",
      "Epoch 15 Batch 700 Loss 1.4542 Accuracy 0.3238\n",
      "Saving checkpoint for epoch 15 at ./checkpoints/train/ckpt-3\n",
      "Epoch 15 Loss 1.4546 Accuracy 0.3238\n",
      "Time taken for 1 epoch: 496.6052796840668 secs\n",
      "\n",
      "Epoch 16 Batch 0 Loss 1.2416 Accuracy 0.3355\n",
      "Epoch 16 Batch 50 Loss 1.3067 Accuracy 0.3330\n",
      "Epoch 16 Batch 100 Loss 1.3137 Accuracy 0.3304\n",
      "Epoch 16 Batch 150 Loss 1.3176 Accuracy 0.3310\n",
      "Epoch 16 Batch 200 Loss 1.3282 Accuracy 0.3311\n",
      "Epoch 16 Batch 250 Loss 1.3354 Accuracy 0.3302\n",
      "Epoch 16 Batch 300 Loss 1.3437 Accuracy 0.3301\n",
      "Epoch 16 Batch 350 Loss 1.3503 Accuracy 0.3293\n",
      "Epoch 16 Batch 400 Loss 1.3554 Accuracy 0.3293\n",
      "Epoch 16 Batch 450 Loss 1.3597 Accuracy 0.3295\n",
      "Epoch 16 Batch 500 Loss 1.3660 Accuracy 0.3293\n",
      "Epoch 16 Batch 550 Loss 1.3705 Accuracy 0.3290\n",
      "Epoch 16 Batch 600 Loss 1.3757 Accuracy 0.3288\n",
      "Epoch 16 Batch 650 Loss 1.3795 Accuracy 0.3282\n",
      "Epoch 16 Batch 700 Loss 1.3855 Accuracy 0.3280\n",
      "Epoch 16 Loss 1.3857 Accuracy 0.3280\n",
      "Time taken for 1 epoch: 500.2904267311096 secs\n",
      "\n",
      "Epoch 17 Batch 0 Loss 1.2171 Accuracy 0.3612\n",
      "Epoch 17 Batch 50 Loss 1.2440 Accuracy 0.3395\n",
      "Epoch 17 Batch 100 Loss 1.2506 Accuracy 0.3394\n",
      "Epoch 17 Batch 150 Loss 1.2590 Accuracy 0.3379\n",
      "Epoch 17 Batch 200 Loss 1.2650 Accuracy 0.3370\n",
      "Epoch 17 Batch 250 Loss 1.2759 Accuracy 0.3363\n",
      "Epoch 17 Batch 300 Loss 1.2825 Accuracy 0.3362\n",
      "Epoch 17 Batch 350 Loss 1.2921 Accuracy 0.3350\n",
      "Epoch 17 Batch 400 Loss 1.2977 Accuracy 0.3342\n",
      "Epoch 17 Batch 450 Loss 1.3020 Accuracy 0.3342\n",
      "Epoch 17 Batch 500 Loss 1.3059 Accuracy 0.3345\n",
      "Epoch 17 Batch 550 Loss 1.3112 Accuracy 0.3341\n",
      "Epoch 17 Batch 600 Loss 1.3156 Accuracy 0.3335\n",
      "Epoch 17 Batch 650 Loss 1.3226 Accuracy 0.3331\n",
      "Epoch 17 Batch 700 Loss 1.3275 Accuracy 0.3329\n",
      "Epoch 17 Loss 1.3273 Accuracy 0.3330\n",
      "Time taken for 1 epoch: 503.52250051498413 secs\n",
      "\n",
      "Epoch 18 Batch 0 Loss 1.1148 Accuracy 0.3462\n",
      "Epoch 18 Batch 50 Loss 1.1822 Accuracy 0.3421\n",
      "Epoch 18 Batch 100 Loss 1.1900 Accuracy 0.3423\n",
      "Epoch 18 Batch 150 Loss 1.2026 Accuracy 0.3412\n",
      "Epoch 18 Batch 200 Loss 1.2139 Accuracy 0.3418\n",
      "Epoch 18 Batch 250 Loss 1.2251 Accuracy 0.3402\n",
      "Epoch 18 Batch 300 Loss 1.2309 Accuracy 0.3387\n",
      "Epoch 18 Batch 350 Loss 1.2348 Accuracy 0.3372\n",
      "Epoch 18 Batch 400 Loss 1.2405 Accuracy 0.3370\n",
      "Epoch 18 Batch 450 Loss 1.2456 Accuracy 0.3366\n",
      "Epoch 18 Batch 500 Loss 1.2506 Accuracy 0.3364\n",
      "Epoch 18 Batch 550 Loss 1.2574 Accuracy 0.3363\n",
      "Epoch 18 Batch 600 Loss 1.2618 Accuracy 0.3364\n",
      "Epoch 18 Batch 650 Loss 1.2664 Accuracy 0.3363\n",
      "Epoch 18 Batch 700 Loss 1.2719 Accuracy 0.3361\n",
      "Epoch 18 Loss 1.2721 Accuracy 0.3362\n",
      "Time taken for 1 epoch: 519.7804946899414 secs\n",
      "\n",
      "Epoch 19 Batch 0 Loss 1.1103 Accuracy 0.3552\n",
      "Epoch 19 Batch 50 Loss 1.1373 Accuracy 0.3477\n",
      "Epoch 19 Batch 100 Loss 1.1500 Accuracy 0.3453\n",
      "Epoch 19 Batch 150 Loss 1.1579 Accuracy 0.3451\n",
      "Epoch 19 Batch 200 Loss 1.1666 Accuracy 0.3449\n",
      "Epoch 19 Batch 250 Loss 1.1724 Accuracy 0.3434\n",
      "Epoch 19 Batch 300 Loss 1.1778 Accuracy 0.3426\n",
      "Epoch 19 Batch 350 Loss 1.1826 Accuracy 0.3431\n",
      "Epoch 19 Batch 400 Loss 1.1880 Accuracy 0.3422\n",
      "Epoch 19 Batch 450 Loss 1.1939 Accuracy 0.3420\n",
      "Epoch 19 Batch 500 Loss 1.1987 Accuracy 0.3420\n",
      "Epoch 19 Batch 550 Loss 1.2062 Accuracy 0.3416\n",
      "Epoch 19 Batch 600 Loss 1.2118 Accuracy 0.3413\n",
      "Epoch 19 Batch 650 Loss 1.2176 Accuracy 0.3407\n",
      "Epoch 19 Batch 700 Loss 1.2235 Accuracy 0.3402\n",
      "Epoch 19 Loss 1.2237 Accuracy 0.3401\n",
      "Time taken for 1 epoch: 502.7936041355133 secs\n",
      "\n",
      "Epoch 20 Batch 0 Loss 1.1865 Accuracy 0.3540\n",
      "Epoch 20 Batch 50 Loss 1.0905 Accuracy 0.3521\n",
      "Epoch 20 Batch 100 Loss 1.1056 Accuracy 0.3475\n",
      "Epoch 20 Batch 150 Loss 1.1233 Accuracy 0.3488\n",
      "Epoch 20 Batch 200 Loss 1.1287 Accuracy 0.3478\n",
      "Epoch 20 Batch 250 Loss 1.1326 Accuracy 0.3477\n",
      "Epoch 20 Batch 300 Loss 1.1353 Accuracy 0.3468\n",
      "Epoch 20 Batch 350 Loss 1.1425 Accuracy 0.3455\n",
      "Epoch 20 Batch 400 Loss 1.1450 Accuracy 0.3450\n",
      "Epoch 20 Batch 450 Loss 1.1497 Accuracy 0.3446\n",
      "Epoch 20 Batch 500 Loss 1.1561 Accuracy 0.3441\n",
      "Epoch 20 Batch 550 Loss 1.1615 Accuracy 0.3442\n",
      "Epoch 20 Batch 600 Loss 1.1674 Accuracy 0.3441\n",
      "Epoch 20 Batch 650 Loss 1.1722 Accuracy 0.3439\n",
      "Epoch 20 Batch 700 Loss 1.1774 Accuracy 0.3435\n",
      "Saving checkpoint for epoch 20 at ./checkpoints/train/ckpt-4\n",
      "Epoch 20 Loss 1.1780 Accuracy 0.3435\n",
      "Time taken for 1 epoch: 501.73767256736755 secs\n",
      "\n"
     ]
    }
   ],
   "source": [
    "for epoch in range(EPOCHS):\n",
    "  start = time.time()\n",
    "  \n",
    "  train_loss.reset_states()\n",
    "  train_accuracy.reset_states()\n",
    "  \n",
    "  # inp -> portuguese, tar -> english\n",
    "  for (batch, (inp, tar)) in enumerate(train_dataset):\n",
    "    train_step(inp, tar)\n",
    "    \n",
    "    if batch % 50 == 0:\n",
    "      print ('Epoch {} Batch {} Loss {:.4f} Accuracy {:.4f}'.format(\n",
    "          epoch + 1, batch, train_loss.result(), train_accuracy.result()))\n",
    "      \n",
    "  if (epoch + 1) % 5 == 0:\n",
    "    ckpt_save_path = ckpt_manager.save()\n",
    "    print ('Saving checkpoint for epoch {} at {}'.format(epoch+1,\n",
    "                                                         ckpt_save_path))\n",
    "    \n",
    "  print ('Epoch {} Loss {:.4f} Accuracy {:.4f}'.format(epoch + 1, \n",
    "                                                train_loss.result(), \n",
    "                                                train_accuracy.result()))\n",
    "\n",
    "  print ('Time taken for 1 epoch: {} secs\\n'.format(time.time() - start))"
   ]
  },
  {
   "cell_type": "markdown",
   "metadata": {},
   "source": [
    "## Evaluate"
   ]
  },
  {
   "cell_type": "code",
   "execution_count": 61,
   "metadata": {},
   "outputs": [],
   "source": [
    "def evaluate(inp_sentence):\n",
    "  start_token = [tokenizer_pt.vocab_size]\n",
    "  end_token = [tokenizer_pt.vocab_size + 1]\n",
    "  \n",
    "  # inp sentence is portuguese, hence adding the start and end token\n",
    "  inp_sentence = start_token + tokenizer_pt.encode(inp_sentence) + end_token\n",
    "  encoder_input = tf.expand_dims(inp_sentence, 0)\n",
    "  \n",
    "  # as the target is english, the first word to the transformer should be the\n",
    "  # english start token.\n",
    "  decoder_input = [tokenizer_en.vocab_size]\n",
    "  output = tf.expand_dims(decoder_input, 0)\n",
    "    \n",
    "  for i in range(MAX_LENGTH):\n",
    "    enc_padding_mask, combined_mask, dec_padding_mask = create_masks(\n",
    "        encoder_input, output)\n",
    "  \n",
    "    # predictions.shape == (batch_size, seq_len, vocab_size)\n",
    "    predictions, attention_weights = transformer(encoder_input, \n",
    "                                                 output,\n",
    "                                                 False,\n",
    "                                                 enc_padding_mask,\n",
    "                                                 combined_mask,\n",
    "                                                 dec_padding_mask)\n",
    "    \n",
    "    # select the last word from the seq_len dimension\n",
    "    predictions = predictions[: ,-1:, :]  # (batch_size, 1, vocab_size)\n",
    "\n",
    "    predicted_id = tf.cast(tf.argmax(predictions, axis=-1), tf.int32)\n",
    "    \n",
    "    # return the result if the predicted_id is equal to the end token\n",
    "    if predicted_id == tokenizer_en.vocab_size+1:\n",
    "      return tf.squeeze(output, axis=0), attention_weights\n",
    "    \n",
    "    # concatentate the predicted_id to the output which is given to the decoder\n",
    "    # as its input.\n",
    "    output = tf.concat([output, predicted_id], axis=-1)\n",
    "\n",
    "  return tf.squeeze(output, axis=0), attention_weights"
   ]
  },
  {
   "cell_type": "code",
   "execution_count": 62,
   "metadata": {},
   "outputs": [],
   "source": [
    "def plot_attention_weights(attention, sentence, result, layer):\n",
    "  fig = plt.figure(figsize=(16, 8))\n",
    "  \n",
    "  sentence = tokenizer_pt.encode(sentence)\n",
    "  \n",
    "  attention = tf.squeeze(attention[layer], axis=0)\n",
    "  \n",
    "  for head in range(attention.shape[0]):\n",
    "    ax = fig.add_subplot(2, 4, head+1)\n",
    "    \n",
    "    # plot the attention weights\n",
    "    ax.matshow(attention[head][:-1, :], cmap='viridis')\n",
    "\n",
    "    fontdict = {'fontsize': 10}\n",
    "    \n",
    "    ax.set_xticks(range(len(sentence)+2))\n",
    "    ax.set_yticks(range(len(result)))\n",
    "    \n",
    "    ax.set_ylim(len(result)-1.5, -0.5)\n",
    "        \n",
    "    ax.set_xticklabels(\n",
    "        ['<start>']+[tokenizer_pt.decode([i]) for i in sentence]+['<end>'], \n",
    "        fontdict=fontdict, rotation=90)\n",
    "    \n",
    "    ax.set_yticklabels([tokenizer_en.decode([i]) for i in result \n",
    "                        if i < tokenizer_en.vocab_size], \n",
    "                       fontdict=fontdict)\n",
    "    \n",
    "    ax.set_xlabel('Head {}'.format(head+1))\n",
    "  \n",
    "  plt.tight_layout()\n",
    "  plt.show()"
   ]
  },
  {
   "cell_type": "code",
   "execution_count": 63,
   "metadata": {},
   "outputs": [],
   "source": [
    "def translate(sentence, plot=''):\n",
    "  result, attention_weights = evaluate(sentence)\n",
    "  \n",
    "  predicted_sentence = tokenizer_en.decode([i for i in result \n",
    "                                            if i < tokenizer_en.vocab_size])  \n",
    "\n",
    "  print('Input: {}'.format(sentence))\n",
    "  print('Predicted translation: {}'.format(predicted_sentence))\n",
    "  \n",
    "  if plot:\n",
    "    plot_attention_weights(attention_weights, sentence, result, plot)"
   ]
  },
  {
   "cell_type": "code",
   "execution_count": 94,
   "metadata": {},
   "outputs": [
    {
     "name": "stdout",
     "output_type": "stream",
     "text": [
      "Input: este é um problema que temos que resolver.\n",
      "Predicted translation: this is a problem that we have to solve the united states to solve for us .\n",
      "Real translation: this is a problem we have to solve .\n"
     ]
    }
   ],
   "source": [
    "translate(\"este é um problema que temos que resolver.\")\n",
    "print (\"Real translation: this is a problem we have to solve .\")"
   ]
  },
  {
   "cell_type": "code",
   "execution_count": 95,
   "metadata": {},
   "outputs": [
    {
     "name": "stdout",
     "output_type": "stream",
     "text": [
      "Input: os meus vizinhos ouviram sobre esta ideia.\n",
      "Predicted translation: my neighbors heard about this idea .\n",
      "Real translation: and my neighboring homes heard about this idea .\n"
     ]
    }
   ],
   "source": [
    "translate(\"os meus vizinhos ouviram sobre esta ideia.\")\n",
    "print (\"Real translation: and my neighboring homes heard about this idea .\")"
   ]
  },
  {
   "cell_type": "code",
   "execution_count": null,
   "metadata": {},
   "outputs": [],
   "source": []
  },
  {
   "cell_type": "code",
   "execution_count": null,
   "metadata": {},
   "outputs": [],
   "source": []
  },
  {
   "cell_type": "code",
   "execution_count": null,
   "metadata": {},
   "outputs": [],
   "source": []
  }
 ],
 "metadata": {
  "kernelspec": {
   "display_name": "local-env",
   "language": "python",
   "name": "local-env"
  },
  "language_info": {
   "codemirror_mode": {
    "name": "ipython",
    "version": 3
   },
   "file_extension": ".py",
   "mimetype": "text/x-python",
   "name": "python",
   "nbconvert_exporter": "python",
   "pygments_lexer": "ipython3",
   "version": "3.6.5"
  }
 },
 "nbformat": 4,
 "nbformat_minor": 2
}
